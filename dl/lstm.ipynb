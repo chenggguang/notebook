{
 "cells": [
  {
   "cell_type": "markdown",
   "metadata": {},
   "source": [
    "# Long Short-Term Menory Network"
   ]
  },
  {
   "cell_type": "markdown",
   "metadata": {},
   "source": [
    "长短期记忆网络是循环神经网络的一个变体，可以有效地解决简单 循环神经网络的梯度爆炸或消失问题."
   ]
  },
  {
   "cell_type": "markdown",
   "metadata": {},
   "source": [
    "## LSTM改进的地方"
   ]
  },
  {
   "cell_type": "markdown",
   "metadata": {},
   "source": [
    "LSTM网络在[RNN](rnn.ipynb)引入了一个新的内部状态$c_t\\in R^D$专门进行线性的循环信息传递，每个时刻$t$，LSTM的内部状态$c_t$记录了到当前时刻为止的历史信息\n",
    "\n",
    "与内部状态配套的，LSTM引入到了**门控机制**来控制信息传递的路径。在数字电路中，门(gate)为一个二值变量$\\{0, 1\\}$，0代表关闭状态，不许任何信息通过，1代表开放状态，允许所有信息通过。"
   ]
  },
  {
   "cell_type": "markdown",
   "metadata": {},
   "source": [
    "LSTM网络中三个门\n",
    "1. 遗忘门$f_t$控制上一时刻的内部状态$c_{t - 1}$需要遗忘多少信息\n",
    "2. 输入门$i_t$空当前时刻的候选状态$\\tilde{c}_t$有多少信息需要保存\n",
    "3. 输出门$o_t$控制当前时刻的内部状态$c_t$有多少信息需要输出给外部状态$h_t$"
   ]
  },
  {
   "cell_type": "markdown",
   "metadata": {},
   "source": [
    "当$f_t = 0, i_t = 1$时，记忆单元将历史信息清空，并将候选状态向量$\\tilde{c}_t$写入. 但此时记忆单元$c_t$依然和上一时刻的历史信息相关. 当$f_t = 1, i_t = 0$时，记忆\n",
    "单元将复制上一时刻的内容，不写入新的信息."
   ]
  },
  {
   "cell_type": "markdown",
   "metadata": {},
   "source": [
    "LSTM中的gate并不是严格意义上的gate，其输出在$(0, 1)$之间，表示按照一定比例允许信息通过，三个门的计算方式为:\n",
    "\n",
    "$$ i_t = \\sigma(W_ix_t + U_ih_{t - 1} + b_i)\\tag{1} $$\n",
    "\n",
    "$$ f_t = \\sigma(W_fx_t + U_fh_{t - 1} + b_f)\\tag{2} $$\n",
    "\n",
    "$$ o_t = \\sigma(W_ox_t + U_oh_{t - 1} + b_o)\\tag{3} $$"
   ]
  },
  {
   "cell_type": "markdown",
   "metadata": {},
   "source": [
    "其中$\\sigma(\\cdot)$为Sigmoid函数"
   ]
  },
  {
   "cell_type": "markdown",
   "metadata": {},
   "source": [
    "当前候选状态$\\tilde{c}_t$的计算过程如下\n",
    "$$\\tilde{c}_t = \\text{tanh}(W_cx_t + U_ch_{t - 1} + b_c)\\tag{4} $$"
   ]
  },
  {
   "cell_type": "markdown",
   "metadata": {},
   "source": [
    "当前的内部状态和输出的隐藏状态为\n",
    "$$ c_t = f_t\\odot c_{t - 1} + i_t\\odot\\tilde{c}_t\\tag{5}$$\n",
    "\n",
    "$$ h_t = o_t\\odot\\text{tanh}(c_t)\\tag{6}$$"
   ]
  },
  {
   "cell_type": "markdown",
   "metadata": {},
   "source": [
    "LSTM的循环单元可以用如下结构的表示\n",
    "\n",
    "![LSTM Unit](imgs/lstm1.png)"
   ]
  },
  {
   "cell_type": "markdown",
   "metadata": {},
   "source": [
    "公式(1)~(4)可以合并描述为如下的公式\n",
    "$$\n",
    "\\begin{bmatrix}\n",
    "\\tilde{c}_t\\\\o_t\\\\i_t\\\\f_t\n",
    "\\end{bmatrix} = \n",
    "\\begin{bmatrix}\n",
    "\\text{tanh} \\\\\\sigma\\\\\\sigma\\\\\\sigma\n",
    "\\end{bmatrix}\\odot\n",
    "\\left(W\\begin{bmatrix}x_t\\\\h_{t - 1} \\end{bmatrix} + b\\right)\n",
    "\\tag{7}\n",
    "$$"
   ]
  },
  {
   "cell_type": "markdown",
   "metadata": {},
   "source": [
    "一个函数与一个向量的乘积在此处规定为将向量作为函数的参数进行算。"
   ]
  }
 ],
 "metadata": {
  "kernelspec": {
   "display_name": "deeplearning",
   "language": "python",
   "name": "deeplearning"
  },
  "language_info": {
   "codemirror_mode": {
    "name": "ipython",
    "version": 3
   },
   "file_extension": ".py",
   "mimetype": "text/x-python",
   "name": "python",
   "nbconvert_exporter": "python",
   "pygments_lexer": "ipython3",
   "version": "3.7.7"
  }
 },
 "nbformat": 4,
 "nbformat_minor": 4
}
