{
 "cells": [
  {
   "cell_type": "markdown",
   "metadata": {},
   "source": [
    "# Ridge Regression"
   ]
  },
  {
   "cell_type": "markdown",
   "metadata": {},
   "source": [
    "岭回归是标准最小二乘法线性回归的一个优化，我们先回顾一下最小二乘法的优化问题,公式同[Linear Regression](linear_regression.ipynb)中公式(2)一样\n",
    "$$\n",
    "s(w) = (Y - Xw)^2\\tag{1}\n",
    "$$"
   ]
  },
  {
   "cell_type": "markdown",
   "metadata": {},
   "source": [
    "得到的回归系数为\n",
    "$$\n",
    "w = (X^TX)^{-1}X^TY\\tag{2}\n",
    "$$"
   ]
  },
  {
   "cell_type": "markdown",
   "metadata": {},
   "source": [
    "最小二乘法回归问题的解析方法存在一个问题就是需要$X$列满秩: $rank(X) = dim(X)$。\n",
    "\n",
    "当时当数据特征中存在共线，即相关性较大的时候，会使得标准最小二乘法的求解不稳定，$X^TX$的行列式值接近零，使得计算误差极大，这个时候我们需要在优化问题(1)上添加一个惩罚项$\\displaystyle\\lambda\\sum^n_{i = 1}w_i^2$，称为L2正则, 此时，优化问题变成"
   ]
  },
  {
   "cell_type": "markdown",
   "metadata": {},
   "source": [
    "$$\n",
    "s(w) = (Y - Xw)^2 + \\displaystyle\\lambda\\sum^n_{i = 1}w_i^2\\tag{3}\n",
    "$$"
   ]
  },
  {
   "cell_type": "markdown",
   "metadata": {},
   "source": [
    "通过加入惩罚项，限制了回归系数的绝对值大小，也解决了$X$不列满秩的时候使用解析表达式求解的问题。"
   ]
  },
  {
   "cell_type": "markdown",
   "metadata": {},
   "source": [
    "用$w$对公式(3)求导得到\n",
    "$$\n",
    "\\frac{\\partial s(w)}{\\partial w} = 2\\lambda w - 2X^T(Y - Xw)\n",
    "\\tag{4}\n",
    "$$"
   ]
  },
  {
   "cell_type": "markdown",
   "metadata": {},
   "source": [
    "令公式(4)为0，就可推出岭回归的回归系数表达式\n",
    "$$\n",
    "w = (X^TX + \\lambda I)^{-1}X^TY\\tag{5}\n",
    "$$"
   ]
  },
  {
   "cell_type": "markdown",
   "metadata": {},
   "source": [
    "从公式(5)可以看到，$X^TX + \\lambda I$一定是一个正定矩阵，也就是说一定是可以通过解析表达式求解该问题的。"
   ]
  }
 ],
 "metadata": {
  "kernelspec": {
   "display_name": "deeplearning",
   "language": "python",
   "name": "deeplearning"
  },
  "language_info": {
   "codemirror_mode": {
    "name": "ipython",
    "version": 3
   },
   "file_extension": ".py",
   "mimetype": "text/x-python",
   "name": "python",
   "nbconvert_exporter": "python",
   "pygments_lexer": "ipython3",
   "version": "3.7.7"
  }
 },
 "nbformat": 4,
 "nbformat_minor": 4
}
