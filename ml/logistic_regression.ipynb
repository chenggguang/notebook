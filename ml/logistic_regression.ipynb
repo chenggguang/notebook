{
 "cells": [
  {
   "cell_type": "markdown",
   "metadata": {},
   "source": [
    "# Logistic Regression"
   ]
  },
  {
   "cell_type": "markdown",
   "metadata": {},
   "source": [
    "## Logistic Distribution"
   ]
  },
  {
   "cell_type": "markdown",
   "metadata": {},
   "source": [
    "**Logistic Distribution**：设$X$是连续随机变量，X服从logisitc distribution是指$X$具有下列分布函数和密度函数\n",
    "$$\n",
    "F(x) = P(X \\le x) = \\frac{1}{1 + e^{-\\frac{(x-\\mu)}{\\gamma}}}\\tag{1}\n",
    "$$"
   ]
  },
  {
   "cell_type": "markdown",
   "metadata": {},
   "source": [
    "$$\n",
    "f(x) = F’(x) = \\frac{e^{-\\frac{(x-\\mu)}{\\gamma}}}{\\gamma(1 + e^{-\\frac{(x-\\mu)}{\\gamma}})^2}\\tag{2}\n",
    "$$\n",
    "\n",
    "式中，$\\mu$是位置参数，$\\gamma \\gt 0$为形状参数\n",
    "\n",
    "Logistic distribution的密度函数和分布函数的图形如下图所示, 其中的$f(x)$的参数为$\\mu = 0, \\gamma = 1$"
   ]
  },
  {
   "cell_type": "markdown",
   "metadata": {},
   "source": [
    "<div align=\"center\">\n",
    "    <img src=\"imgs/lr1.png\" width=\"50%\">\n",
    "    </div>"
   ]
  },
  {
   "cell_type": "markdown",
   "metadata": {},
   "source": [
    "## Binomial logistic regression"
   ]
  },
  {
   "cell_type": "markdown",
   "metadata": {},
   "source": [
    "二项LR是一种分类模型，由条件概率$P(Y|X)$表示，形成参数化的logistics distribution。这里，随机变量$X$取值为实数，随机变量$Y$取值为0或者1。LR有如下的分布:\n",
    "$$\n",
    "P(Y = 1|x) = \\frac{e^{w\\cdot x + b}}{1 + e^{w\\cdot x + b}}\\tag{3}\n",
    "$$\n",
    "\n",
    "$$\n",
    "P(Y = 0|x) = \\frac{1}{1 + e^{w\\cdot x + b}}\\tag{4}\n",
    "$$"
   ]
  },
  {
   "cell_type": "markdown",
   "metadata": {},
   "source": [
    "一个事件的几率(odds)是指该事件发生的概率与该事件不发生的概率的比值。如果事件发生的概率是$p$，那么该事件的几率是$\\frac{p}{1-p}$,该事件的对数几率是\n",
    "$$\n",
    "\\text{logit}(P) =\\log \\frac{p}{1 - p}\\tag{5}\n",
    "$$\n",
    "对LR而言，由(5)与(2)、(3)可得\n",
    "$$\n",
    "\\log \\frac{P(Y = 1|x)}{1 - P(Y = 1|x)} = w\\cdot x + b\\tag{6}\n",
    "$$\n",
    "这就是说，在LR中，输出$Y = 1$的对数几率是输入$x$的线性函数。"
   ]
  },
  {
   "cell_type": "markdown",
   "metadata": {},
   "source": [
    "## 模型参数估计"
   ]
  },
  {
   "cell_type": "markdown",
   "metadata": {},
   "source": [
    "在LR学习是=时，对于给定的训练集$T = \\{(x_1, y_1), \\ldots, (x_N, y_N)\\}$，其中， $x_i \\in R^n, y_i \\in \\{0, 1\\}$，使用MLE估计模型的参数，从而得到LR。\n",
    "\n",
    "假设\n",
    "$$\n",
    "P(Y = 1|x) = \\pi(x), \\  \\ P(Y = 0|x) = 1 - \\pi(x)\n",
    "$$"
   ]
  },
  {
   "cell_type": "markdown",
   "metadata": {},
   "source": [
    "那么，似然函数\n",
    "$$\n",
    "\\displaystyle\\prod_{i = 1}^N\\big[\\pi(x_i)\\big]^{y_i}\\big[1 - \\pi(x_i)\\big]^{1 - y_i}\n",
    "$$"
   ]
  },
  {
   "cell_type": "markdown",
   "metadata": {},
   "source": [
    "对数似然函数为\n",
    "$$\n",
    "\\begin{aligned}\n",
    "L(w, b) &= \\displaystyle\\sum_{i = 1}^N\n",
    "\\big[y_i\\log\\pi(x_i) + (1 - y_i)\\log(1 - \\pi(x_i))\\big]\\\\\n",
    "&= \\displaystyle\\sum_{i = 1}^N\n",
    "\\big[y_i\\log\\frac{\\pi(x_i)}{1 - \\pi(x_i)} + \\log(1 - \\pi(x_i))\\big]\\\\\n",
    "&= \\displaystyle\\sum_{i = 1}^N\n",
    "\\big[y_i(w\\cdot x_i + b) - \\log(1 + e^{w\\cdot x_i + b})\\big]\\\\\n",
    "\\end{aligned}\\tag{7}\n",
    "$$"
   ]
  },
  {
   "cell_type": "markdown",
   "metadata": {},
   "source": [
    "注意到，对数似然函数公式(7)的第一行表达式，实际上是交叉熵之和的相反数，即$-\\sum H(P(x_i), Q(x_i)$"
   ]
  },
  {
   "cell_type": "markdown",
   "metadata": {},
   "source": [
    "对函数$L(w)$求$w$和$b$的偏导数\n",
    "$$\n",
    "\\begin{aligned}\n",
    " \\frac{\\partial L(w, b)}{\\partial w} &= \\displaystyle\\sum_{i = 1}^N\\big(y_i - \\pi(x_i)\\big)x_i^T \\\\\n",
    " \\frac{\\partial L(w, b)}{\\partial b}  &= \\displaystyle\\sum_{i = 1}^N\\big(y_i - \\pi(x_i)\\big) \\\\\n",
    "\\end{aligned}\\tag{8}\n",
    "$$\n",
    "**注意**,此处的梯度是一个凹函数的梯度，所以应该用**梯度上升法**"
   ]
  },
  {
   "cell_type": "markdown",
   "metadata": {},
   "source": [
    "## Multi-nomial Logistic Regression"
   ]
  },
  {
   "cell_type": "markdown",
   "metadata": {},
   "source": [
    "前面介绍的LR只能解决二分类问题，通过一定的推广，LR可以用于多分类，假设离散型随机变量$Y$取值集合为$\\{1, 2,\\ldots, K\\}$,那么多项LR表达式为\n",
    "\n",
    "$$\n",
    "\\begin{aligned}\n",
    "P(Y = k|x) &= \\frac{e^{w_k\\cdot x}}{1 + \\displaystyle\\sum_{k = 1}^{K-1}e^{w_k\\cdot x}}\\\\\n",
    "P(Y = K|x) &= \\frac{1}{1 + \\displaystyle\\sum_{k = 1}^{K-1}e^{w_k\\cdot x}}\\\\\n",
    "\\end{aligned}\\tag{9}$$\n",
    "\n",
    "BLR的参数估计方法也可以推广到MLR。"
   ]
  }
 ],
 "metadata": {
  "kernelspec": {
   "display_name": "deeplearning",
   "language": "python",
   "name": "deeplearning"
  },
  "language_info": {
   "codemirror_mode": {
    "name": "ipython",
    "version": 3
   },
   "file_extension": ".py",
   "mimetype": "text/x-python",
   "name": "python",
   "nbconvert_exporter": "python",
   "pygments_lexer": "ipython3",
   "version": "3.7.7"
  }
 },
 "nbformat": 4,
 "nbformat_minor": 4
}
