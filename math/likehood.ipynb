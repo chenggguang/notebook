{
 "cells": [
  {
   "cell_type": "markdown",
   "metadata": {},
   "source": [
    "# Likehood"
   ]
  },
  {
   "cell_type": "markdown",
   "metadata": {},
   "source": [
    "likelihood这个词其实和probability是差不多的意思,但是在统计里面，似然函数和概率函数却是两个不同的概念。\n",
    "\n",
    "对于函数$P(x|\\theta)$, 输入有两个：$x$表示某一个具体的数据; $\\theta$表示模型的参数。\n",
    "\n",
    "- 如果$\\theta$是已知确定的,$x$是变量，这个函数叫做概率函数(probability function)，它描述对于不同的样本点x，其出现概率是多少。\n",
    "- 如果$x$是已知确定的, $\\theta$是变量，这个函数叫做似然函数(likelihood function), 它描述对于不同的模型参数，出现x这个样本点的概率是多少。"
   ]
  },
  {
   "cell_type": "markdown",
   "metadata": {},
   "source": [
    "## MLE"
   ]
  },
  {
   "cell_type": "markdown",
   "metadata": {},
   "source": [
    "假设有一个变量$X$的观测序列${X_1, X_2, \\ldots, X_n}$，那么其极大似然估计为\n",
    "$$\n",
    "MLE(\\theta) = \\underset{\\theta}{arg\\ max}\\prod^n_{i = 1}P(X_i|\\theta)\\tag{1}\n",
    "$$"
   ]
  },
  {
   "cell_type": "markdown",
   "metadata": {},
   "source": [
    "## MAP"
   ]
  },
  {
   "cell_type": "markdown",
   "metadata": {},
   "source": [
    "假设有一个变量$X$的观测序列${X_1, X_2, \\ldots, X_n}$，那么其极大后验估计为\n",
    "$$\n",
    "\\begin{aligned}\n",
    "MAP(\\theta) \n",
    "=& \\underset{\\theta}{arg\\ max}\\prod^n_{i = 1}P(\\theta|X_i)\\\\\n",
    "=& \\underset{\\theta}{arg\\ max}\\prod^n_{i = 1} \\frac{P(X_i | \\theta)P(\\theta)}{P(X_i)}\\\\\n",
    "= & \\underset{\\theta}{arg\\ max}\\prod^n_{i = 1} P(X_i| \\theta)P(\\theta)\\\\\n",
    "\\end{aligned}\\tag{2}\n",
    "$$\n",
    "MLE与MAP之间的区别就是，MLE认为参数$\\theta$是一个固定的值，其不服从某种分布或者服从$U(0, 1)$分布，而MAP则认为参数$\\theta$服从某种分布，在估计$\\theta$的时候，需要考虑$\\theta$的先验概率。\n",
    "\n",
    "实际上，在[Regularization](../ml/regularization.ipynb)笔记中谈到的L1与L2正则就是MAP的结果。其中\n",
    "\n",
    "- L1 认为参数服从均值为0的某个拉普拉斯分布\n",
    "- L2认为参数服从均值为0的某个正态分布\n",
    "\n",
    "那么L1正则后的参数出现稀疏也就不奇怪了，因为参数服从拉普拉斯分布，那么参数值趋于0的概率极大。"
   ]
  }
 ],
 "metadata": {
  "kernelspec": {
   "display_name": "deeplearning",
   "language": "python",
   "name": "deeplearning"
  },
  "language_info": {
   "codemirror_mode": {
    "name": "ipython",
    "version": 3
   },
   "file_extension": ".py",
   "mimetype": "text/x-python",
   "name": "python",
   "nbconvert_exporter": "python",
   "pygments_lexer": "ipython3",
   "version": "3.7.7"
  }
 },
 "nbformat": 4,
 "nbformat_minor": 4
}
